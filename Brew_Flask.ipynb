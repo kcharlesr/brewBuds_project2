{
 "cells": [
  {
   "cell_type": "code",
   "execution_count": 1,
   "metadata": {},
   "outputs": [],
   "source": [
    " %matplotlib inline\n",
    "from matplotlib import style\n",
    "style.use('fivethirtyeight')\n",
    "import matplotlib.pyplot as plt\n",
    "import numpy as np\n",
    "import pandas as pd\n",
    "import datetime as dt"
   ]
  },
  {
   "cell_type": "code",
   "execution_count": 2,
   "metadata": {},
   "outputs": [],
   "source": [
    " # Python SQL toolkit and Object Relational Mapper\n",
    "import sqlalchemy\n",
    "from sqlalchemy.ext.automap import automap_base\n",
    "from sqlalchemy.orm import Session\n",
    "from sqlalchemy import create_engine, func, inspect, MetaData, Table, Column, Integer, String, Float"
   ]
  },
  {
   "cell_type": "code",
   "execution_count": 3,
   "metadata": {},
   "outputs": [],
   "source": [
    " # create engine to brewBuds.sqlite\n",
    "engine = create_engine(\"sqlite:///brewBuds.sqlite\")"
   ]
  },
  {
   "cell_type": "code",
   "execution_count": 4,
   "metadata": {},
   "outputs": [],
   "source": [
    "metadata = MetaData()"
   ]
  },
  {
   "cell_type": "code",
   "execution_count": 5,
   "metadata": {},
   "outputs": [
    {
     "data": {
      "text/plain": [
       "Table('brewery', MetaData(bind=None), Column('Index', Integer(), table=<brewery>, primary_key=True, nullable=False), Column('City', String(), table=<brewery>), Column('Latitude', Float(), table=<brewery>), Column('Longitude', Float(), table=<brewery>), Column('Name', String(), table=<brewery>), Column('PostalCode', Integer(), table=<brewery>), Column('State', String(), table=<brewery>), schema=None)"
      ]
     },
     "execution_count": 5,
     "metadata": {},
     "output_type": "execute_result"
    }
   ],
   "source": [
    "Table('brewery', metadata,\n",
    "     Column('Index', Integer, primary_key = True),\n",
    "     Column('City', String),\n",
    "     Column('Latitude',Float),\n",
    "     Column('Longitude',Float),\n",
    "     Column('Name',String),\n",
    "     Column('PostalCode',Integer),\n",
    "     Column('State', String))"
   ]
  },
  {
   "cell_type": "code",
   "execution_count": 6,
   "metadata": {},
   "outputs": [
    {
     "data": {
      "text/plain": [
       "Table('starbucks', MetaData(bind=None), Column('Index', Integer(), table=<starbucks>, primary_key=True, nullable=False), Column('State', String(), table=<starbucks>), Column('PostalCode', Integer(), table=<starbucks>), Column('Longitude', Float(), table=<starbucks>), Column('Latitude', Float(), table=<starbucks>), schema=None)"
      ]
     },
     "execution_count": 6,
     "metadata": {},
     "output_type": "execute_result"
    }
   ],
   "source": [
    "Table('starbucks', metadata,\n",
    "     Column('Index', Integer, primary_key = True),\n",
    "     Column('State', String),\n",
    "     Column('PostalCode',Integer),\n",
    "     Column('Longitude',Float),\n",
    "     Column('Latitude',Float)\n",
    "     )"
   ]
  },
  {
   "cell_type": "code",
   "execution_count": 7,
   "metadata": {},
   "outputs": [
    {
     "data": {
      "text/plain": [
       "Table('income', MetaData(bind=None), Column('Index', Integer(), table=<income>, primary_key=True, nullable=False), Column('PostalCode', Integer(), table=<income>), Column('Population', Float(), table=<income>), Column('Median_Income', Float(), table=<income>), Column('PerUnder60', Float(), table=<income>), schema=None)"
      ]
     },
     "execution_count": 7,
     "metadata": {},
     "output_type": "execute_result"
    }
   ],
   "source": [
    "Table('income', metadata,\n",
    "     Column('Index', Integer, primary_key = True),\n",
    "     Column('PostalCode',Integer),\n",
    "     Column('Population',Float),\n",
    "     Column('Median_Income',Float),\n",
    "     Column('PerUnder60',Float)\n",
    "     )"
   ]
  },
  {
   "cell_type": "code",
   "execution_count": 8,
   "metadata": {},
   "outputs": [],
   "source": [
    " # reflect an existing database into a new model\n",
    "Base = automap_base(metadata=metadata)\n",
    "# reflect the tables\n",
    "Base.prepare()"
   ]
  },
  {
   "cell_type": "code",
   "execution_count": 9,
   "metadata": {},
   "outputs": [
    {
     "data": {
      "text/plain": [
       "['brewery', 'starbucks', 'income']"
      ]
     },
     "execution_count": 9,
     "metadata": {},
     "output_type": "execute_result"
    }
   ],
   "source": [
    " # View all of the classes that automap found\n",
    "Base.classes.keys()"
   ]
  },
  {
   "cell_type": "code",
   "execution_count": 10,
   "metadata": {},
   "outputs": [],
   "source": [
    " # Save references to each table\n",
    "brewery = Base.classes.brewery\n",
    "starbucks = Base.classes.starbucks\n",
    "income = Base.classes.income"
   ]
  },
  {
   "cell_type": "code",
   "execution_count": null,
   "metadata": {},
   "outputs": [],
   "source": [
    "\n"
   ]
  },
  {
   "cell_type": "code",
   "execution_count": 11,
   "metadata": {},
   "outputs": [],
   "source": [
    " # Create our session (link) from Python to the DB\n",
    "session = Session(engine)\n"
   ]
  },
  {
   "cell_type": "code",
   "execution_count": 3,
   "metadata": {},
   "outputs": [],
   "source": [
    "# brewery_list = session.query(brewery)\n",
    "# for b in brewery_list:\n",
    "#     print(b.Index)\n",
    "#     print(b.Name)\n",
    "  \n",
    " "
   ]
  },
  {
   "cell_type": "code",
   "execution_count": 2,
   "metadata": {},
   "outputs": [],
   "source": [
    "# sbux_list = session.query(starbucks)\n",
    "# for s in sbux_list:\n",
    "#     print(s.Index)\n",
    "#     print(s.PostalCode)"
   ]
  },
  {
   "cell_type": "code",
   "execution_count": 1,
   "metadata": {},
   "outputs": [],
   "source": [
    "# income_list = session.query(income)\n",
    "# for i in income_list:\n",
    "#     print(i.Index)\n",
    "#     print(i.PostalCode)"
   ]
  },
  {
   "cell_type": "code",
   "execution_count": null,
   "metadata": {},
   "outputs": [],
   "source": [
    "#NOT USING\n",
    "#Use inspector to familiarize self with data types in measurement table\n",
    "inspector = inspect(engine)\n",
    "# i_columns = inspector.get_columns('income')\n",
    "#  for c in m_columns:\n",
    "# #     print(c['name'], c['type'])"
   ]
  },
  {
   "cell_type": "code",
   "execution_count": 15,
   "metadata": {},
   "outputs": [
    {
     "data": {
      "text/plain": [
       "[(0, 0, 'MN', 55792.0, -92.55, 47.51),\n",
       " (1, 1, 'OR', 97218.0, -122.59, 45.59),\n",
       " (2, 4, 'CT', 6611.0, -73.15, 41.23),\n",
       " (3, 5, 'CA', 92056.0, -117.3, 33.18),\n",
       " (4, 6, 'CO', 80124.0, -104.88, 39.54)]"
      ]
     },
     "execution_count": 15,
     "metadata": {},
     "output_type": "execute_result"
    }
   ],
   "source": [
    "engine.execute('SELECT * FROM starbucks LIMIT 5').fetchall()"
   ]
  },
  {
   "cell_type": "code",
   "execution_count": 16,
   "metadata": {},
   "outputs": [
    {
     "data": {
      "text/plain": [
       "[(0, 1, 35004, 13860, 302269, 0.92),\n",
       " (1, 2, 35005, 8280, 130555, 0.92),\n",
       " (2, 3, 35006, 3340, 65411, 0.89),\n",
       " (3, 4, 35007, 33710, 743431, 0.92),\n",
       " (4, 5, 35010, 21520, 410413, 0.91)]"
      ]
     },
     "execution_count": 16,
     "metadata": {},
     "output_type": "execute_result"
    }
   ],
   "source": [
    "engine.execute('SELECT * FROM income LIMIT 5').fetchall()"
   ]
  },
  {
   "cell_type": "code",
   "execution_count": 17,
   "metadata": {},
   "outputs": [
    {
     "data": {
      "text/plain": [
       "[(0, 0, 'Black Earth', 43.138995, -89.747904, 'Shack The', 53515, 'WI'),\n",
       " (1, 1, 'Woodinville', 47.734648, -122.149773, 'Redhook Ale Brewery Inc', 98072, 'WA'),\n",
       " (2, 2, 'Austin', 30.225785, -97.952191, 'Thristy Planet', 78736, 'Circleville'),\n",
       " (3, 3, 'North Conway', 44.06841641, -71.14390969, 'Moat Mountain Smoke House & Brewing Co.', 3860, 'N Conway'),\n",
       " (4, 4, 'Newport', 41.51424931, -71.31590366, 'Coastal Extreme Brewing Company', 2840, 'RI')]"
      ]
     },
     "execution_count": 17,
     "metadata": {},
     "output_type": "execute_result"
    }
   ],
   "source": [
    "engine.execute('SELECT * FROM brewery LIMIT 5').fetchall()"
   ]
  },
  {
   "cell_type": "code",
   "execution_count": null,
   "metadata": {},
   "outputs": [],
   "source": [
    "#Analysis to determine the ideal number of breweries:Starbucks to base recommendations for locale"
   ]
  },
  {
   "cell_type": "code",
   "execution_count": null,
   "metadata": {},
   "outputs": [],
   "source": [
    "# MIN and MAX of breweries per zipcode"
   ]
  },
  {
   "cell_type": "code",
   "execution_count": null,
   "metadata": {},
   "outputs": [],
   "source": [
    "# number of breweries per median income in each zipcode"
   ]
  },
  {
   "cell_type": "code",
   "execution_count": null,
   "metadata": {},
   "outputs": [],
   "source": [
    "# number of breweries per capita in each zipcode\n",
    "# "
   ]
  },
  {
   "cell_type": "code",
   "execution_count": null,
   "metadata": {},
   "outputs": [],
   "source": [
    "# Calculate number of Starbucks per capita: https://www.statista.com/statistics/1033425/cities-with-the-most-starbucks-per-resident/"
   ]
  },
  {
   "cell_type": "code",
   "execution_count": null,
   "metadata": {},
   "outputs": [],
   "source": [
    "#number of Starbucks per median income in each zipcode"
   ]
  },
  {
   "cell_type": "code",
   "execution_count": null,
   "metadata": {},
   "outputs": [],
   "source": [
    "#Use the data to define: WHAT IS THE BREWERY STANDARD?"
   ]
  },
  {
   "cell_type": "code",
   "execution_count": null,
   "metadata": {},
   "outputs": [],
   "source": [
    "#Identify places to recommend based on the brewery standard (filtered queries)"
   ]
  },
  {
   "cell_type": "code",
   "execution_count": null,
   "metadata": {},
   "outputs": [],
   "source": [
    "#Filter by coordinates for those places that meet the brewery standard"
   ]
  },
  {
   "cell_type": "code",
   "execution_count": null,
   "metadata": {},
   "outputs": [],
   "source": [
    "#Filter by coordinates for those places that meet the Starbucks standard"
   ]
  },
  {
   "cell_type": "code",
   "execution_count": null,
   "metadata": {},
   "outputs": [],
   "source": [
    "#Filter recommended places' population"
   ]
  },
  {
   "cell_type": "code",
   "execution_count": null,
   "metadata": {},
   "outputs": [],
   "source": [
    "#Filter recommended places' median income"
   ]
  },
  {
   "cell_type": "code",
   "execution_count": 18,
   "metadata": {},
   "outputs": [],
   "source": [
    "session.close()"
   ]
  }
 ],
 "metadata": {
  "kernelspec": {
   "display_name": "Python 3",
   "language": "python",
   "name": "python3"
  },
  "language_info": {
   "codemirror_mode": {
    "name": "ipython",
    "version": 3
   },
   "file_extension": ".py",
   "mimetype": "text/x-python",
   "name": "python",
   "nbconvert_exporter": "python",
   "pygments_lexer": "ipython3",
   "version": "3.8.3"
  }
 },
 "nbformat": 4,
 "nbformat_minor": 4
}
